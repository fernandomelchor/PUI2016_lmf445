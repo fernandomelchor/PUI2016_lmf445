{
 "cells": [
  {
   "cell_type": "markdown",
   "metadata": {},
   "source": [
    "### 1.- Do diets help lose more fat than the exercise? \n",
    "### Experimental setup: you have a test and a control sample.\n",
    "#### NULL HYPOTHESIS:\n",
    "The reduction of the % of Body Fat in people doing excercise is the same or higher than the reduction of the % of Body Fat in the people on diet during 3 months.\n",
    "\n",
    "$IFP=Initial Body Fat Percentage$\n",
    "\n",
    "$FFP=Final Body Fat Percentage$\n",
    "\n",
    "$$\n",
    "H_0:IFP_{excercise}-FFP_{excercise} >= IFP_{diet}-FFP_{diet}\n",
    "$$\n",
    "\n",
    "$$\n",
    "H_1:IFP_{excercise}-FFP_{excercise} < IFP_{diet}-FFP_{diet}\n",
    "$$\n",
    "\n",
    "\n"
   ]
  },
  {
   "cell_type": "markdown",
   "metadata": {},
   "source": [
    "### 2.- Do American trust the president?\n",
    "#### POLL RESULTS: On May 16, 1994, Newsweek reported the results of a public opinion poll that asked: “From everything you know about Bill Clinton, does he have the honesty and integrity you expect in a president?” (p. 23). Poll surveyed 518 adults and 233, or 0.45 of them answered yes.\n",
    "#### NULL HYPOTHESIS:\n",
    "The number of surveyed adults that think that Bill Clinton has the integrity that they excpect is bigger or equal to the number of surveyed adults think that Bill Clinton does not have the integrity they expect. \n",
    "\n",
    "$\n",
    "N_{yes}=number of people that participated on the survey and replied yes$\n",
    "$\n",
    "N_{no}=number of people that participated on the survey and replied no\n",
    "$\n",
    "\n",
    "$$\n",
    "H_0:N_{yes} >= N_{no}\n",
    "$$\n",
    "$$\n",
    "H_1:N_{yes} < N_{no}\n",
    "$$"
   ]
  },
  {
   "cell_type": "markdown",
   "metadata": {},
   "source": [
    "### 3.- Effectiveness of nicotine patches to quit smoking.\n",
    "#### Experimental setup: measure cessation rates for smokers randomly assigned to use a nicotine patch versus a placebo patch.\n",
    "#### NULL HYPOTHESIS:\n",
    "The rate of smokers quitting in the control group (with placebo patches) is bigger or equal to the the rate of smokers quitting in the group with the nicotine patches. \n",
    "\n",
    "\n",
    "$\n",
    "Q=number of people quitting smoking in the group\n",
    "$\n",
    "\n",
    "$\n",
    "Total=number of people in the group\n",
    "$\n",
    "\n",
    "$$\n",
    "H_0:\\frac{Q_{control}}{Total_{control}} >= \\frac{Q_{nicotine}}{Total_{nicotine}}\n",
    "$$\n",
    "\n",
    "$$\n",
    "H_1:\\frac{Q_{control}}{Total_{control}} < \\frac{Q_{nicotine}}{Total_{nicotine}}\n",
    "$$\n",
    "\n"
   ]
  },
  {
   "cell_type": "markdown",
   "metadata": {},
   "source": [
    "### 4.- Quantify the danger of smoking for pregnant women.\n",
    "#### Experimemtal setup: measure IQ of children at ages 1, 2, 3, and 4 years of age.\n",
    "#### NULL HYPOTHESIS:\n",
    "The IQ of children at ages 1, 2, 3 and 4 with a smoker mother is equal or higher than the IQ of children at ages 1, 2, 3 and 4 with a non-smoker mother\n",
    "\n",
    "$\n",
    "IQ=average IQ score for the children in a group\n",
    "$\n",
    "\n",
    "$$\n",
    "H_0:IQ_{average smoker}>=IQ_{average non-smoker}\n",
    "$$\n",
    "$$\n",
    "H_0:IQ_{average smoker}<IQ_{average non-smoker}\n",
    "$$"
   ]
  }
 ],
 "metadata": {
  "kernelspec": {
   "display_name": "Python [Root]",
   "language": "python",
   "name": "Python [Root]"
  },
  "language_info": {
   "codemirror_mode": {
    "name": "ipython",
    "version": 2
   },
   "file_extension": ".py",
   "mimetype": "text/x-python",
   "name": "python",
   "nbconvert_exporter": "python",
   "pygments_lexer": "ipython2",
   "version": "2.7.12"
  }
 },
 "nbformat": 4,
 "nbformat_minor": 0
}
