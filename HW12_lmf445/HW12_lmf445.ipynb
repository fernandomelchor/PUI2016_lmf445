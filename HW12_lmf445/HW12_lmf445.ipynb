{
 "cells": [
  {
   "cell_type": "code",
   "execution_count": 1,
   "metadata": {
    "collapsed": false
   },
   "outputs": [
    {
     "name": "stderr",
     "output_type": "stream",
     "text": [
      "C:\\Users\\ferna\\Anaconda2\\lib\\site-packages\\matplotlib\\__init__.py:872: UserWarning: axes.color_cycle is deprecated and replaced with axes.prop_cycle; please use the latter.\n",
      "  warnings.warn(self.msg_depr % (key, alt_key))\n",
      "C:\\Users\\ferna\\Anaconda2\\lib\\site-packages\\matplotlib\\__init__.py:872: UserWarning: svg.embed_char_paths is deprecated and replaced with svg.fonttype; please use the latter.\n",
      "  warnings.warn(self.msg_depr % (key, alt_key))\n"
     ]
    }
   ],
   "source": [
    "\n",
    "%matplotlib inline\n",
    "import numpy as np\n",
    "import pandas as pd\n",
    "from pandas import DataFrame\n",
    "import ast\n",
    "from cStringIO import StringIO\n",
    "import os\n",
    "import json\n",
    "import requests\n",
    "import urllib2\n",
    "import urllib\n",
    "import shapely\n",
    "import seaborn as sns\n",
    "from scipy.spatial.distance import pdist, squareform\n",
    "\n",
    "# Using the last development version of geopandas at this time\n",
    "# pip install git+git://github.com/geopandas/geopandas.git\n",
    "from geopandas import GeoDataFrame\n",
    "\n",
    "from fiona.crs import from_epsg\n",
    "import matplotlib.pylab as pl\n",
    "from matplotlib import colors\n",
    "\n",
    "#loading rcParams from JSON template (created from Federica's fbb_matplotlibrc.json)\n",
    "url = 'https://s3.amazonaws.com/sb-public/sbg389_matplotlibrc.json'\n",
    "resp = requests.get(url=url)\n",
    "data = json.loads(resp.text)\n",
    "pl.rcParams.update(data)\n",
    "pl.rcParams['font.size']=12"
   ]
  },
  {
   "cell_type": "code",
   "execution_count": 2,
   "metadata": {
    "collapsed": true
   },
   "outputs": [],
   "source": [
    "# Helper function to query CartoDB using the SQL API\n",
    "# Function from fedhere reference notebook\n",
    "# https://github.com/fedhere/PUI2016_fb55/blob/master/HW12_fb55/Assignment%201%20instructions.ipynb\n",
    "\n",
    "def queryCartoDB(query, format, source):\n",
    "    \"\"\" queries a url with an sql compatible search\n",
    "    Arguments:\n",
    "    query : the sql query string\n",
    "    format : the expected format\n",
    "    source \" the url of the API\n",
    "    \"\"\"\n",
    "    data = urllib.urlencode({'format': format, 'q': query})\n",
    "    try:\n",
    "        response = urllib2.urlopen(source, data)\n",
    "    except urllib2.HTTPError, e:\n",
    "        raise ValueError('\\n'.join(ast.literal_eval(e.readline())['error']))\n",
    "    except Exception:\n",
    "        raise\n",
    "    return StringIO(response.read())"
   ]
  },
  {
   "cell_type": "code",
   "execution_count": 5,
   "metadata": {
    "collapsed": false
   },
   "outputs": [],
   "source": [
    "# Preparing query parameters\n",
    "SQL_SOURCE = 'https://fb55.carto.com/api/v2/sql'\n",
    "\n",
    "facilityQuery = '''\n",
    "SELECT COUNT (cartodb_id) as count, nycasthmasdismissals.zipcodes\n",
    "FROM nycasthmasdismissals\n",
    "group by nycasthmasdismissals.zipcodes\n",
    "'''\n",
    "\n",
    "# Use the queryCartoDB helper function to retreive the data in JSON format\n",
    "# Parse the JSON into a string and load it into a pandas dataframe\n",
    "facilityStream = queryCartoDB(facilityQuery, format='JSON', source=SQL_SOURCE)\n",
    "facilityData   = json.loads(facilityStream.read())\n",
    "facilities     = pd.DataFrame.from_dict(facilityData['rows'])"
   ]
  },
  {
   "cell_type": "code",
   "execution_count": 8,
   "metadata": {
    "collapsed": false
   },
   "outputs": [],
   "source": [
    "facilityQuery = '''\n",
    "SELECT *\n",
    "FROM nycasthmasdismissals\n",
    "'''\n",
    "facilityStream = queryCartoDB(facilityQuery, format='JSON', source=SQL_SOURCE)\n",
    "facilityData   = json.loads(facilityStream.read())b\n",
    "other     = pd.DataFrame.from_dict(facilityData['rows'])"
   ]
  },
  {
   "cell_type": "code",
   "execution_count": 9,
   "metadata": {
    "collapsed": false
   },
   "outputs": [
    {
     "data": {
      "text/html": [
       "<div>\n",
       "<table border=\"1\" class=\"dataframe\">\n",
       "  <thead>\n",
       "    <tr style=\"text-align: right;\">\n",
       "      <th></th>\n",
       "      <th>abortion_edit_indicator</th>\n",
       "      <th>admit_day_of_week</th>\n",
       "      <th>age_group</th>\n",
       "      <th>apr_drg_code</th>\n",
       "      <th>apr_drg_description</th>\n",
       "      <th>apr_mdc_code</th>\n",
       "      <th>apr_mdc_description</th>\n",
       "      <th>apr_medical_surgical_description</th>\n",
       "      <th>apr_risk_of_mortality</th>\n",
       "      <th>apr_severity_of_illness_code</th>\n",
       "      <th>...</th>\n",
       "      <th>payment_typology_2</th>\n",
       "      <th>payment_typology_3</th>\n",
       "      <th>race</th>\n",
       "      <th>the_geom</th>\n",
       "      <th>the_geom_webmercator</th>\n",
       "      <th>total_charges</th>\n",
       "      <th>total_costs</th>\n",
       "      <th>type_of_admission</th>\n",
       "      <th>zip_code___3_digits</th>\n",
       "      <th>zipcodes</th>\n",
       "    </tr>\n",
       "  </thead>\n",
       "  <tbody>\n",
       "    <tr>\n",
       "      <th>0</th>\n",
       "      <td>False</td>\n",
       "      <td>FRI</td>\n",
       "      <td>0 to 17</td>\n",
       "      <td>141</td>\n",
       "      <td>ASTHMA</td>\n",
       "      <td>4</td>\n",
       "      <td>Diseases and Disorders of the Respiratory System</td>\n",
       "      <td>Medical</td>\n",
       "      <td>Minor</td>\n",
       "      <td>1</td>\n",
       "      <td>...</td>\n",
       "      <td></td>\n",
       "      <td></td>\n",
       "      <td>Black/African American</td>\n",
       "      <td>None</td>\n",
       "      <td>None</td>\n",
       "      <td>$10745.59</td>\n",
       "      <td>$5875.02</td>\n",
       "      <td>Emergency</td>\n",
       "      <td>112</td>\n",
       "      <td>11212</td>\n",
       "    </tr>\n",
       "    <tr>\n",
       "      <th>1</th>\n",
       "      <td>False</td>\n",
       "      <td>SAT</td>\n",
       "      <td>0 to 17</td>\n",
       "      <td>141</td>\n",
       "      <td>ASTHMA</td>\n",
       "      <td>4</td>\n",
       "      <td>Diseases and Disorders of the Respiratory System</td>\n",
       "      <td>Medical</td>\n",
       "      <td>Minor</td>\n",
       "      <td>1</td>\n",
       "      <td>...</td>\n",
       "      <td>Medicaid</td>\n",
       "      <td></td>\n",
       "      <td>Other Race</td>\n",
       "      <td>None</td>\n",
       "      <td>None</td>\n",
       "      <td>$3410.85</td>\n",
       "      <td>$2682.08</td>\n",
       "      <td>Emergency</td>\n",
       "      <td>104</td>\n",
       "      <td>10461</td>\n",
       "    </tr>\n",
       "    <tr>\n",
       "      <th>2</th>\n",
       "      <td>False</td>\n",
       "      <td>THU</td>\n",
       "      <td>0 to 17</td>\n",
       "      <td>141</td>\n",
       "      <td>ASTHMA</td>\n",
       "      <td>4</td>\n",
       "      <td>Diseases and Disorders of the Respiratory System</td>\n",
       "      <td>Medical</td>\n",
       "      <td>Minor</td>\n",
       "      <td>1</td>\n",
       "      <td>...</td>\n",
       "      <td></td>\n",
       "      <td></td>\n",
       "      <td>Other Race</td>\n",
       "      <td>None</td>\n",
       "      <td>None</td>\n",
       "      <td>$2757.15</td>\n",
       "      <td>$2168.05</td>\n",
       "      <td>Emergency</td>\n",
       "      <td>104</td>\n",
       "      <td>10461</td>\n",
       "    </tr>\n",
       "    <tr>\n",
       "      <th>3</th>\n",
       "      <td>False</td>\n",
       "      <td>MON</td>\n",
       "      <td>30 to 49</td>\n",
       "      <td>141</td>\n",
       "      <td>ASTHMA</td>\n",
       "      <td>4</td>\n",
       "      <td>Diseases and Disorders of the Respiratory System</td>\n",
       "      <td>Medical</td>\n",
       "      <td>Minor</td>\n",
       "      <td>2</td>\n",
       "      <td>...</td>\n",
       "      <td>Medicare</td>\n",
       "      <td>Medicaid</td>\n",
       "      <td>Other Race</td>\n",
       "      <td>None</td>\n",
       "      <td>None</td>\n",
       "      <td>$17756.59</td>\n",
       "      <td>$13962.68</td>\n",
       "      <td>Emergency</td>\n",
       "      <td>104</td>\n",
       "      <td>10461</td>\n",
       "    </tr>\n",
       "    <tr>\n",
       "      <th>4</th>\n",
       "      <td>False</td>\n",
       "      <td>FRI</td>\n",
       "      <td>0 to 17</td>\n",
       "      <td>141</td>\n",
       "      <td>ASTHMA</td>\n",
       "      <td>4</td>\n",
       "      <td>Diseases and Disorders of the Respiratory System</td>\n",
       "      <td>Medical</td>\n",
       "      <td>Minor</td>\n",
       "      <td>1</td>\n",
       "      <td>...</td>\n",
       "      <td>Medicaid</td>\n",
       "      <td>Self-Pay</td>\n",
       "      <td>Black/African American</td>\n",
       "      <td>None</td>\n",
       "      <td>None</td>\n",
       "      <td>$42507.45</td>\n",
       "      <td>$12837.66</td>\n",
       "      <td>Emergency</td>\n",
       "      <td>104</td>\n",
       "      <td>10466</td>\n",
       "    </tr>\n",
       "  </tbody>\n",
       "</table>\n",
       "<p>5 rows × 44 columns</p>\n",
       "</div>"
      ],
      "text/plain": [
       "  abortion_edit_indicator admit_day_of_week age_group  apr_drg_code  \\\n",
       "0                   False               FRI   0 to 17           141   \n",
       "1                   False               SAT   0 to 17           141   \n",
       "2                   False               THU   0 to 17           141   \n",
       "3                   False               MON  30 to 49           141   \n",
       "4                   False               FRI   0 to 17           141   \n",
       "\n",
       "  apr_drg_description  apr_mdc_code  \\\n",
       "0              ASTHMA             4   \n",
       "1              ASTHMA             4   \n",
       "2              ASTHMA             4   \n",
       "3              ASTHMA             4   \n",
       "4              ASTHMA             4   \n",
       "\n",
       "                                apr_mdc_description  \\\n",
       "0  Diseases and Disorders of the Respiratory System   \n",
       "1  Diseases and Disorders of the Respiratory System   \n",
       "2  Diseases and Disorders of the Respiratory System   \n",
       "3  Diseases and Disorders of the Respiratory System   \n",
       "4  Diseases and Disorders of the Respiratory System   \n",
       "\n",
       "  apr_medical_surgical_description apr_risk_of_mortality  \\\n",
       "0                          Medical                 Minor   \n",
       "1                          Medical                 Minor   \n",
       "2                          Medical                 Minor   \n",
       "3                          Medical                 Minor   \n",
       "4                          Medical                 Minor   \n",
       "\n",
       "   apr_severity_of_illness_code    ...    payment_typology_2  \\\n",
       "0                             1    ...                         \n",
       "1                             1    ...              Medicaid   \n",
       "2                             1    ...                         \n",
       "3                             2    ...              Medicare   \n",
       "4                             1    ...              Medicaid   \n",
       "\n",
       "   payment_typology_3                    race  the_geom  the_geom_webmercator  \\\n",
       "0                      Black/African American      None                  None   \n",
       "1                                  Other Race      None                  None   \n",
       "2                                  Other Race      None                  None   \n",
       "3            Medicaid              Other Race      None                  None   \n",
       "4            Self-Pay  Black/African American      None                  None   \n",
       "\n",
       "  total_charges  total_costs type_of_admission zip_code___3_digits  zipcodes  \n",
       "0     $10745.59     $5875.02         Emergency                 112     11212  \n",
       "1      $3410.85     $2682.08         Emergency                 104     10461  \n",
       "2      $2757.15     $2168.05         Emergency                 104     10461  \n",
       "3     $17756.59    $13962.68         Emergency                 104     10461  \n",
       "4     $42507.45    $12837.66         Emergency                 104     10466  \n",
       "\n",
       "[5 rows x 44 columns]"
      ]
     },
     "execution_count": 9,
     "metadata": {},
     "output_type": "execute_result"
    }
   ],
   "source": [
    "other.head()"
   ]
  },
  {
   "cell_type": "code",
   "execution_count": 6,
   "metadata": {
    "collapsed": false
   },
   "outputs": [
    {
     "data": {
      "text/html": [
       "<div>\n",
       "<table border=\"1\" class=\"dataframe\">\n",
       "  <thead>\n",
       "    <tr style=\"text-align: right;\">\n",
       "      <th></th>\n",
       "      <th>count</th>\n",
       "      <th>zipcodes</th>\n",
       "    </tr>\n",
       "  </thead>\n",
       "  <tbody>\n",
       "    <tr>\n",
       "      <th>0</th>\n",
       "      <td>1699</td>\n",
       "      <td>10461</td>\n",
       "    </tr>\n",
       "    <tr>\n",
       "      <th>1</th>\n",
       "      <td>405</td>\n",
       "      <td>11373</td>\n",
       "    </tr>\n",
       "    <tr>\n",
       "      <th>2</th>\n",
       "      <td>1698</td>\n",
       "      <td>10451</td>\n",
       "    </tr>\n",
       "    <tr>\n",
       "      <th>3</th>\n",
       "      <td>220</td>\n",
       "      <td>11691</td>\n",
       "    </tr>\n",
       "    <tr>\n",
       "      <th>4</th>\n",
       "      <td>246</td>\n",
       "      <td>11375</td>\n",
       "    </tr>\n",
       "  </tbody>\n",
       "</table>\n",
       "</div>"
      ],
      "text/plain": [
       "   count  zipcodes\n",
       "0   1699     10461\n",
       "1    405     11373\n",
       "2   1698     10451\n",
       "3    220     11691\n",
       "4    246     11375"
      ]
     },
     "execution_count": 6,
     "metadata": {},
     "output_type": "execute_result"
    }
   ],
   "source": [
    "facilities.head()"
   ]
  },
  {
   "cell_type": "code",
   "execution_count": 21,
   "metadata": {
    "collapsed": false
   },
   "outputs": [
    {
     "name": "stdout",
     "output_type": "stream",
     "text": [
      "C:/Users/ferna/PUI2016LOCAL/PUIdata/ZIP_CODE_040114.zip\n"
     ]
    }
   ],
   "source": [
    "print (os.getenv(\"PUIDATA\")+ '/' + \"ZIP_CODE_040114.zip\")"
   ]
  },
  {
   "cell_type": "code",
   "execution_count": 28,
   "metadata": {
    "collapsed": false
   },
   "outputs": [
    {
     "name": "stdout",
     "output_type": "stream",
     "text": [
      "https://data.cityofnewyork.us/api/file_data/YObIR0MbpUVA0EpQzZSq5x55FzKGM2ejSeahdvjqR20?filename=ZIP_CODE_040114.zip\n"
     ]
    },
    {
     "data": {
      "text/plain": [
       "0"
      ]
     },
     "execution_count": 28,
     "metadata": {},
     "output_type": "execute_result"
    }
   ],
   "source": [
    "fileUrl = \"https://data.cityofnewyork.us/api/file_data/\" \\\n",
    "\"YObIR0MbpUVA0EpQzZSq5x55FzKGM2ejSeahdvjqR20?\" \\\n",
    "\"filename=ZIP_CODE_040114.zip\"\n",
    "\n",
    "print (fileUrl)\n",
    "os.system(\"curl -o ZIP_CODE_040114.zip \" + fileUrl)\n",
    "os.system(\"mv ZIP_CODE_040114.zip \" + os.getenv(\"PUIDATA\")+'/')\n",
    "os.system(\"unzip \" + os.getenv(\"PUIDATA\")+ '/' + \"ZIP_CODE_040114.zip\")"
   ]
  },
  {
   "cell_type": "code",
   "execution_count": 29,
   "metadata": {
    "collapsed": false
   },
   "outputs": [],
   "source": [
    "\n",
    "# Merge the facilities dataframe using the zipcode \n",
    "# Use the zipcode geometry centers to extract the x and y coordinates of the zipcode center\n",
    "\n",
    "# load the shapefile\n",
    "ct_shape = GeoDataFrame.from_file(\"ZIP_CODE_040114.shp\")\n",
    "\n",
    "# Create a new column containing the centers of the zips\n",
    "ct_shape['centers'] = ct_shape.geometry.centroid\n",
    "ct_shape.rename(columns={'ZIPCODE': 'zipcodes'}, inplace=True)\n",
    "\n",
    "# Homogenize the data types of the zipcodes columns on each dataframe\n",
    "facilities.zipcodes = facilities.zipcodes.astype(str)\n",
    "ct_shape.zipcodes = ct_shape.zipcodes.astype(str)\n",
    "\n",
    "# Merge the dataframes\n",
    "merged = pd.merge(facilities, ct_shape, on='zipcodes')\n",
    "\n",
    "# Select the required columns\n",
    "merged = merged[['count', 'zipcodes', 'centers']]"
   ]
  },
  {
   "cell_type": "code",
   "execution_count": 30,
   "metadata": {
    "collapsed": false
   },
   "outputs": [
    {
     "data": {
      "text/html": [
       "<div>\n",
       "<table border=\"1\" class=\"dataframe\">\n",
       "  <thead>\n",
       "    <tr style=\"text-align: right;\">\n",
       "      <th></th>\n",
       "      <th>count</th>\n",
       "      <th>zipcodes</th>\n",
       "      <th>centers</th>\n",
       "    </tr>\n",
       "  </thead>\n",
       "  <tbody>\n",
       "    <tr>\n",
       "      <th>0</th>\n",
       "      <td>1699</td>\n",
       "      <td>10461</td>\n",
       "      <td>POINT (1028292.72437689 247902.4282787614)</td>\n",
       "    </tr>\n",
       "    <tr>\n",
       "      <th>1</th>\n",
       "      <td>405</td>\n",
       "      <td>11373</td>\n",
       "      <td>POINT (1017941.215480481 208485.1046661779)</td>\n",
       "    </tr>\n",
       "    <tr>\n",
       "      <th>2</th>\n",
       "      <td>1698</td>\n",
       "      <td>10451</td>\n",
       "      <td>POINT (1005358.961284301 238316.0675161843)</td>\n",
       "    </tr>\n",
       "    <tr>\n",
       "      <th>3</th>\n",
       "      <td>220</td>\n",
       "      <td>11691</td>\n",
       "      <td>POINT (1050360.772370908 158235.4624321515)</td>\n",
       "    </tr>\n",
       "    <tr>\n",
       "      <th>4</th>\n",
       "      <td>246</td>\n",
       "      <td>11375</td>\n",
       "      <td>POINT (1026858.206454871 201880.2234817908)</td>\n",
       "    </tr>\n",
       "  </tbody>\n",
       "</table>\n",
       "</div>"
      ],
      "text/plain": [
       "   count zipcodes                                      centers\n",
       "0   1699    10461   POINT (1028292.72437689 247902.4282787614)\n",
       "1    405    11373  POINT (1017941.215480481 208485.1046661779)\n",
       "2   1698    10451  POINT (1005358.961284301 238316.0675161843)\n",
       "3    220    11691  POINT (1050360.772370908 158235.4624321515)\n",
       "4    246    11375  POINT (1026858.206454871 201880.2234817908)"
      ]
     },
     "execution_count": 30,
     "metadata": {},
     "output_type": "execute_result"
    }
   ],
   "source": [
    "merged.head()"
   ]
  },
  {
   "cell_type": "code",
   "execution_count": 32,
   "metadata": {
    "collapsed": false
   },
   "outputs": [
    {
     "data": {
      "text/plain": [
       "0      POINT (1028292.72437689 247902.4282787614)\n",
       "1     POINT (1017941.215480481 208485.1046661779)\n",
       "2     POINT (1005358.961284301 238316.0675161843)\n",
       "3     POINT (1050360.772370908 158235.4624321515)\n",
       "4     POINT (1026858.206454871 201880.2234817908)\n",
       "5     POINT (1026647.114925691 263909.2896452093)\n",
       "6     POINT (1008365.375095716 180768.9448568909)\n",
       "7     POINT (999714.2819237487 158289.3193893406)\n",
       "8     POINT (989857.1615907477 181769.9626017534)\n",
       "9     POINT (979603.6885367428 172876.8181350912)\n",
       "10    POINT (1033751.963208415 213025.4454238106)\n",
       "11    POINT (1001912.871996466 183803.1131420481)\n",
       "12     POINT (1030763.131985185 193718.677337912)\n",
       "13    POINT (952154.3158469965 170046.5463028799)\n",
       "14      POINT (1002486.39486033 175967.924925334)\n",
       "15    POINT (1004612.515718838 220393.7206859779)\n",
       "16    POINT (1009030.592825167 160369.8908560668)\n",
       "17     POINT (1006204.49069248 195763.5339415926)\n",
       "18     POINT (985172.779324743 169813.4852984693)\n",
       "19     POINT (1012373.99669069 247427.2407033304)\n",
       "20     POINT (999281.733467283 152086.4975396681)\n",
       "21    POINT (1000214.752242321 195030.0417786305)\n",
       "22    POINT (1009764.343531543 241746.6814908273)\n",
       "23    POINT (1066420.314161689 212186.3715271447)\n",
       "24    POINT (987194.5134666855 192431.9280277258)\n",
       "25    POINT (1020059.119296007 259287.5178783316)\n",
       "26     POINT (1041615.426944193 200113.081425501)\n",
       "27    POINT (963294.3545815283 156090.5598662235)\n",
       "28    POINT (923582.2158208215 132956.1861638336)\n",
       "Name: centers, dtype: object"
      ]
     },
     "execution_count": 32,
     "metadata": {},
     "output_type": "execute_result"
    }
   ],
   "source": [
    "merged.centers"
   ]
  },
  {
   "cell_type": "code",
   "execution_count": 33,
   "metadata": {
    "collapsed": true
   },
   "outputs": [],
   "source": [
    "# Create a 3xN numpy array with x-location, y-location, number of dismissals\n",
    "\n",
    "# Create an empty array\n",
    "krigdata = np.zeros((len(merged),3))\n",
    "\n",
    "# Loop through the dataframe and populate the x,y and count\n",
    "for i in range(0, len(merged)):\n",
    "    krigdata[i][0] = merged.centers[i].x\n",
    "    krigdata[i][1] = merged.centers[i].y\n",
    "    krigdata[i][2] = merged['count'][i]"
   ]
  },
  {
   "cell_type": "code",
   "execution_count": 34,
   "metadata": {
    "collapsed": false
   },
   "outputs": [
    {
     "data": {
      "text/plain": [
       "<matplotlib.colorbar.Colorbar at 0x22d17a20>"
      ]
     },
     "execution_count": 34,
     "metadata": {},
     "output_type": "execute_result"
    },
    {
     "data": {
      "image/png": "[encoded data removed]",
      "text/plain": [
       "<matplotlib.figure.Figure at 0x1941acc0>"
      ]
     },
     "metadata": {},
     "output_type": "display_data"
    }
   ],
   "source": [
    "# Plot the dataframe\n",
    "\n",
    "pl.figure(figsize=(10,10))\n",
    "pl.scatter(krigdata[:,0], krigdata[:,1], c=krigdata[:,2], s=100, cmap='bone')\n",
    "pl.xlabel(\"Easting (m)\", fontsize=15)\n",
    "pl.ylabel(\"Northing (m)\", fontsize=15)\n",
    "pl.title('Number of dismissals') ;\n",
    "pl.colorbar()"
   ]
  },
  {
   "cell_type": "code",
   "execution_count": 35,
   "metadata": {
    "collapsed": true
   },
   "outputs": [],
   "source": [
    "# Helper functions to create semivariograms\n",
    "# http://connor-johnson.com/2014/03/20/simple-kriging-in-python/\n",
    "\n",
    "def SVh( P, h, bw ):\n",
    "    '''\n",
    "    Experimental semivariogram for a single lag\n",
    "    '''\n",
    "    pd = squareform( pdist( P[:,:2] ) )\n",
    "    N = pd.shape[0]\n",
    "    Z = list()\n",
    "    for i in range(N):\n",
    "        for j in range(i+1,N):\n",
    "            if( pd[i,j] >= h-bw )and( pd[i,j] <= h+bw ):\n",
    "                Z.append( ( P[i,2] - P[j,2] )**2.0 )\n",
    "    return np.sum( Z ) / ( 2.0 * len( Z ) )\n",
    " \n",
    "def SV( P, hs, bw ):\n",
    "    '''\n",
    "    Experimental variogram for a collection of lags\n",
    "    '''\n",
    "    sv = list()\n",
    "    for h in hs:\n",
    "        sv.append( SVh( P, h, bw ) )\n",
    "    sv = [ [ hs[i], sv[i] ] for i in range( len( hs ) ) if sv[i] > 0 ]\n",
    "    return np.array( sv ).T\n",
    " \n",
    "def C( P, h, bw ):\n",
    "    '''\n",
    "    Calculate the sill\n",
    "    '''\n",
    "    c0 = np.var( P[:,2] )\n",
    "    if h == 0:\n",
    "        return c0\n",
    "    return c0 - SVh( P, h, bw )"
   ]
  },
  {
   "cell_type": "code",
   "execution_count": 36,
   "metadata": {
    "collapsed": false
   },
   "outputs": [
    {
     "data": {
      "image/png": "[encoded data removed]",
      "text/plain": [
       "<matplotlib.figure.Figure at 0x22e18160>"
      ]
     },
     "metadata": {},
     "output_type": "display_data"
    }
   ],
   "source": [
    "# Create the semivariogram using our krigdata array\n",
    "\n",
    "# bandwidth, plus or minus 250 meters\n",
    "bw = 500\n",
    "\n",
    "# lags in 500 meter increments from zero to 10,000\n",
    "hs = np.arange(0,1080000,bw)\n",
    "sv = SV( krigdata, hs, bw )\n",
    "pl.plot( sv[0], sv[1], '.-' )\n",
    "pl.xlabel('Lag [m]')\n",
    "pl.ylabel('Semivariance')\n",
    "pl.title('Sample Semivariogram') ;"
   ]
  },
  {
   "cell_type": "code",
   "execution_count": null,
   "metadata": {
    "collapsed": true
   },
   "outputs": [],
   "source": []
  }
 ],
 "metadata": {
  "kernelspec": {
   "display_name": "Python [Root]",
   "language": "python",
   "name": "Python [Root]"
  },
  "language_info": {
   "codemirror_mode": {
    "name": "ipython",
    "version": 2
   },
   "file_extension": ".py",
   "mimetype": "text/x-python",
   "name": "python",
   "nbconvert_exporter": "python",
   "pygments_lexer": "ipython2",
   "version": "2.7.12"
  }
 },
 "nbformat": 4,
 "nbformat_minor": 0
}
