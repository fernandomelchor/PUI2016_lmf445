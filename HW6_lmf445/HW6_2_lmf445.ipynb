{
 "cells": [
  {
   "cell_type": "markdown",
   "metadata": {},
   "source": [
    "## IDEA:\n",
    "### Suscribers are less likely than Customers to pay extra time fees per ride\n",
    "Suscriber = people enrolled with a 1 year contract to use Citibike\n",
    "\n",
    "Customer = people that buy a Day-pass or a 3-Day-pass to use Citibike, normally associated wih tourists.\n",
    "\n",
    "Note: the limit usage time without extra charges is different for Suscribers and Customers\n",
    "\n",
    "Max time for Customers = 30min = 1800 sec  \n",
    "\n",
    "Max time for Suscribers = 45min = 2700 sec\n",
    "\n",
    "## NULL HYPOTHESIS:\n",
    "The ratio of Suscribers rides paying extra fees over the total Suscribers rides is the same or higher than the ratio of Customers rides paying extra fees over the total Customers rides\n",
    "\n",
    "\n",
    "$$\n",
    "H_0:\\frac{E_{subscriber}}{N_{subscriber}}>=\\frac{E_{customer}}{N_{customer}}\n",
    "$$\n",
    "\n",
    "## Alternative  HYPOTHESIS:\n",
    "The ratio of Suscribers rides paying extra fees over the total Suscribers rides is the smaller than the ratio of Customers rides paying extra fees over the total Customers rides\n",
    "\n",
    "$$\n",
    "H_1:\\frac{E_{subscriber}}{N_{subscriber}}<\\frac{E_{customer}}{N_{customer}}\n",
    "$$\n",
    "\n",
    "\n",
    "\n",
    "or identically:\n",
    "\n",
    "$$\n",
    "H_0:\\frac{E_{customer}}{N_{customer}}-\\frac{E_{subscriber}}{N_{subscriber}}<=0\n",
    "$$\n",
    "\n",
    "$$\n",
    "H_1:\\frac{E_{customer}}{N_{customer}}-\\frac{E_{subscriber}}{N_{subscriber}}>0\n",
    "$$\n",
    "\n",
    "\n",
    "\n",
    "\n",
    "## I will use a significance level $\\alpha=0.05$\n",
    "\n"
   ]
  },
  {
   "cell_type": "code",
   "execution_count": 59,
   "metadata": {
    "collapsed": false
   },
   "outputs": [
    {
     "name": "stdout",
     "output_type": "stream",
     "text": [
      "Populating the interactive namespace from numpy and matplotlib\n"
     ]
    },
    {
     "name": "stderr",
     "output_type": "stream",
     "text": [
      "WARNING: pylab import has clobbered these variables: ['norm']\n",
      "`%matplotlib` prevents importing * from pylab and numpy\n"
     ]
    }
   ],
   "source": [
    "### Corrected formulation of hypothesis to solve typo from Dr. Federica Bianco's review\n",
    "## importin libraries\n",
    "from __future__  import print_function, division\n",
    "import pylab as pl\n",
    "import pandas as pd\n",
    "import numpy as np\n",
    "import os\n",
    "\n",
    "%pylab inline\n",
    "\n",
    "if os.getenv ('PUI2016') is None:\n",
    "    print (\"Must set env variable PUI2016\")\n",
    "if os.getenv ('PUIDATA') is None:\n",
    "    print (\"Must set env variable PUI2016\")\n",
    "\n",
    "import os\n",
    "import json\n"
   ]
  },
  {
   "cell_type": "code",
   "execution_count": 60,
   "metadata": {
    "collapsed": true
   },
   "outputs": [],
   "source": [
    "## Code to retrive the data from the web and unzip it. From Dr. Federica Bianco\n",
    "def getCitiBikeCSV(datestring):\n",
    "    print (\"Downloading\", datestring)\n",
    "    ### First I will heck that it is not already there\n",
    "    if not os.path.isfile(os.getenv(\"PUIDATA\") + \"/\" + datestring + \"-citibike-tripdata.csv\"):\n",
    "        if os.path.isfile(datestring + \"-citibike-tripdata.csv\"):\n",
    "            # if in the current dir just move it\n",
    "            if os.system(\"mv \" + datestring + \"-citibike-tripdata.csv \" + os.getenv(\"PUIDATA\")):\n",
    "                print (\"Error moving file!, Please check!\")\n",
    "        #otherwise start looking for the zip file\n",
    "        else:\n",
    "            if not os.path.isfile(os.getenv(\"PUIDATA\") + \"/\" + datestring + \"-citibike-tripdata.zip\"):\n",
    "                if not os.path.isfile(datestring + \"-citibike-tripdata.zip\"):\n",
    "                    os.system(\"curl -O https://s3.amazonaws.com/tripdata/\" + datestring + \"-citibike-tripdata.zip\")\n",
    "                ###  To move it I use the os.system() functions to run bash commands with arguments\n",
    "                os.system(\"mv \" + datestring + \"-citibike-tripdata.zip \" + os.getenv(\"PUIDATA\"))\n",
    "            ### unzip the csv \n",
    "            os.system(\"unzip \" + os.getenv(\"PUIDATA\") + \"/\" + datestring + \"-citibike-tripdata.zip\")\n",
    "            ## NOTE: old csv citibike data had a different name structure. \n",
    "            if '2014' in datestring:\n",
    "                os.system(\"mv \" + datestring[:4] + '-' +  datestring[4:] + \n",
    "                          \"\\ -\\ Citi\\ Bike\\ trip\\ data.csv \" + datestring + \"-citibike-tripdata.csv\")\n",
    "            os.system(\"mv \" + datestring + \"-citibike-tripdata.csv \" + os.getenv(\"PUIDATA\"))\n",
    "    ### One final check:\n",
    "    if not os.path.isfile(os.getenv(\"PUIDATA\") + \"/\" + datestring + \"-citibike-tripdata.csv\"):\n",
    "        print (\"WARNING!!! something is wrong: the file is not there!\")\n",
    "\n",
    "    else:\n",
    "        print (\"file in place, you can continue\")"
   ]
  },
  {
   "cell_type": "markdown",
   "metadata": {},
   "source": [
    "### I am using data from the year 2016 from the months of February, April and June\n",
    "#### You can see that the number of trips during summer is bigger than during winter, as well the number of Customer rides increase more in the warmer months."
   ]
  },
  {
   "cell_type": "code",
   "execution_count": 61,
   "metadata": {
    "collapsed": false
   },
   "outputs": [
    {
     "name": "stdout",
     "output_type": "stream",
     "text": [
      "Downloading 201604\n",
      "file in place, you can continue\n"
     ]
    }
   ],
   "source": [
    "datestring = '201604'\n",
    "getCitiBikeCSV(datestring)\n",
    "df1 = pd.read_csv(os.getenv(\"PUIDATA\") + \"/\" + datestring + '-citibike-tripdata.csv')"
   ]
  },
  {
   "cell_type": "code",
   "execution_count": 62,
   "metadata": {
    "collapsed": false
   },
   "outputs": [
    {
     "name": "stdout",
     "output_type": "stream",
     "text": [
      "Downloading 201606\n",
      "file in place, you can continue\n"
     ]
    }
   ],
   "source": [
    "datestring = '201606'\n",
    "getCitiBikeCSV(datestring)\n",
    "df2 = pd.read_csv(os.getenv(\"PUIDATA\") + \"/\" + datestring + '-citibike-tripdata.csv')"
   ]
  },
  {
   "cell_type": "code",
   "execution_count": 63,
   "metadata": {
    "collapsed": false
   },
   "outputs": [
    {
     "name": "stdout",
     "output_type": "stream",
     "text": [
      "Downloading 201602\n",
      "file in place, you can continue\n"
     ]
    }
   ],
   "source": [
    "datestring = '201602'\n",
    "getCitiBikeCSV(datestring)\n",
    "df3 = pd.read_csv(os.getenv(\"PUIDATA\") + \"/\" + datestring + '-citibike-tripdata.csv')"
   ]
  },
  {
   "cell_type": "code",
   "execution_count": 64,
   "metadata": {
    "collapsed": false
   },
   "outputs": [],
   "source": [
    "frames = [df1, df2, df3]\n",
    "df = pd.concat(frames)"
   ]
  },
  {
   "cell_type": "code",
   "execution_count": 65,
   "metadata": {
    "collapsed": false
   },
   "outputs": [
    {
     "data": {
      "text/html": [
       "<div>\n",
       "<table border=\"1\" class=\"dataframe\">\n",
       "  <thead>\n",
       "    <tr style=\"text-align: right;\">\n",
       "      <th></th>\n",
       "      <th>index</th>\n",
       "      <th>tripduration</th>\n",
       "      <th>starttime</th>\n",
       "      <th>stoptime</th>\n",
       "      <th>start station id</th>\n",
       "      <th>start station name</th>\n",
       "      <th>start station latitude</th>\n",
       "      <th>start station longitude</th>\n",
       "      <th>end station id</th>\n",
       "      <th>end station name</th>\n",
       "      <th>end station latitude</th>\n",
       "      <th>end station longitude</th>\n",
       "      <th>bikeid</th>\n",
       "      <th>usertype</th>\n",
       "      <th>birth year</th>\n",
       "      <th>gender</th>\n",
       "    </tr>\n",
       "  </thead>\n",
       "  <tbody>\n",
       "    <tr>\n",
       "      <th>0</th>\n",
       "      <td>0</td>\n",
       "      <td>496</td>\n",
       "      <td>4/1/2016 00:00:26</td>\n",
       "      <td>4/1/2016 00:08:42</td>\n",
       "      <td>254</td>\n",
       "      <td>W 11 St &amp; 6 Ave</td>\n",
       "      <td>40.735324</td>\n",
       "      <td>-73.998004</td>\n",
       "      <td>236</td>\n",
       "      <td>St Marks Pl &amp; 2 Ave</td>\n",
       "      <td>40.728419</td>\n",
       "      <td>-73.987140</td>\n",
       "      <td>19704</td>\n",
       "      <td>Subscriber</td>\n",
       "      <td>1984.0</td>\n",
       "      <td>1</td>\n",
       "    </tr>\n",
       "    <tr>\n",
       "      <th>1</th>\n",
       "      <td>1</td>\n",
       "      <td>104</td>\n",
       "      <td>4/1/2016 00:00:27</td>\n",
       "      <td>4/1/2016 00:02:12</td>\n",
       "      <td>311</td>\n",
       "      <td>Norfolk St &amp; Broome St</td>\n",
       "      <td>40.717227</td>\n",
       "      <td>-73.988021</td>\n",
       "      <td>350</td>\n",
       "      <td>Clinton St &amp; Grand St</td>\n",
       "      <td>40.715595</td>\n",
       "      <td>-73.987030</td>\n",
       "      <td>21555</td>\n",
       "      <td>Subscriber</td>\n",
       "      <td>1970.0</td>\n",
       "      <td>1</td>\n",
       "    </tr>\n",
       "    <tr>\n",
       "      <th>2</th>\n",
       "      <td>2</td>\n",
       "      <td>128</td>\n",
       "      <td>4/1/2016 00:00:30</td>\n",
       "      <td>4/1/2016 00:02:38</td>\n",
       "      <td>3064</td>\n",
       "      <td>Myrtle Ave &amp; Lewis Ave</td>\n",
       "      <td>40.696820</td>\n",
       "      <td>-73.937569</td>\n",
       "      <td>3059</td>\n",
       "      <td>Pulaski St &amp; Marcus Garvey Blvd</td>\n",
       "      <td>40.693398</td>\n",
       "      <td>-73.939877</td>\n",
       "      <td>17430</td>\n",
       "      <td>Subscriber</td>\n",
       "      <td>1986.0</td>\n",
       "      <td>1</td>\n",
       "    </tr>\n",
       "  </tbody>\n",
       "</table>\n",
       "</div>"
      ],
      "text/plain": [
       "   index  tripduration          starttime           stoptime  \\\n",
       "0      0           496  4/1/2016 00:00:26  4/1/2016 00:08:42   \n",
       "1      1           104  4/1/2016 00:00:27  4/1/2016 00:02:12   \n",
       "2      2           128  4/1/2016 00:00:30  4/1/2016 00:02:38   \n",
       "\n",
       "   start station id      start station name  start station latitude  \\\n",
       "0               254         W 11 St & 6 Ave               40.735324   \n",
       "1               311  Norfolk St & Broome St               40.717227   \n",
       "2              3064  Myrtle Ave & Lewis Ave               40.696820   \n",
       "\n",
       "   start station longitude  end station id                 end station name  \\\n",
       "0               -73.998004             236              St Marks Pl & 2 Ave   \n",
       "1               -73.988021             350            Clinton St & Grand St   \n",
       "2               -73.937569            3059  Pulaski St & Marcus Garvey Blvd   \n",
       "\n",
       "   end station latitude  end station longitude  bikeid    usertype  \\\n",
       "0             40.728419             -73.987140   19704  Subscriber   \n",
       "1             40.715595             -73.987030   21555  Subscriber   \n",
       "2             40.693398             -73.939877   17430  Subscriber   \n",
       "\n",
       "   birth year  gender  \n",
       "0      1984.0       1  \n",
       "1      1970.0       1  \n",
       "2      1986.0       1  "
      ]
     },
     "execution_count": 65,
     "metadata": {},
     "output_type": "execute_result"
    }
   ],
   "source": [
    "#datestring = '201601'\n",
    "#getCitiBikeCSV(datestring)\n",
    "df=df.reset_index()\n",
    "df.head(3)"
   ]
  },
  {
   "cell_type": "code",
   "execution_count": 66,
   "metadata": {
    "collapsed": false
   },
   "outputs": [],
   "source": [
    "\n",
    "#df = pd.read_csv(os.getenv(\"PUIDATA\") + \"/\" + datestring + '-citibike-tripdata.csv')\n",
    "# df is the dataframe where the content of the csv file is stored\n",
    "# note that with dataframes I can refer to variables as dictionary keys, \n",
    "#df.head()"
   ]
  },
  {
   "cell_type": "code",
   "execution_count": 67,
   "metadata": {
    "collapsed": false
   },
   "outputs": [
    {
     "data": {
      "text/plain": [
       "Index([u'index', u'tripduration', u'starttime', u'stoptime',\n",
       "       u'start station id', u'start station name', u'start station latitude',\n",
       "       u'start station longitude', u'end station id', u'end station name',\n",
       "       u'end station latitude', u'end station longitude', u'bikeid',\n",
       "       u'usertype', u'birth year', u'gender'],\n",
       "      dtype='object')"
      ]
     },
     "execution_count": 67,
     "metadata": {},
     "output_type": "execute_result"
    }
   ],
   "source": [
    "df.columns"
   ]
  },
  {
   "cell_type": "code",
   "execution_count": 68,
   "metadata": {
    "collapsed": false
   },
   "outputs": [],
   "source": [
    "## Here I am dropping the columns that are not needed for this analysis\n",
    "df.drop(['stoptime', 'start station id',\n",
    "       'start station name', 'start station latitude',\n",
    "       'start station longitude', 'end station id', 'end station name',\n",
    "       'end station latitude', 'end station longitude', 'bikeid',\n",
    "       'birth year', 'gender', 'index'], axis = 1, inplace = True)"
   ]
  },
  {
   "cell_type": "code",
   "execution_count": 69,
   "metadata": {
    "collapsed": false
   },
   "outputs": [
    {
     "data": {
      "text/html": [
       "<div>\n",
       "<table border=\"1\" class=\"dataframe\">\n",
       "  <thead>\n",
       "    <tr style=\"text-align: right;\">\n",
       "      <th></th>\n",
       "      <th>tripduration</th>\n",
       "      <th>starttime</th>\n",
       "      <th>usertype</th>\n",
       "    </tr>\n",
       "  </thead>\n",
       "  <tbody>\n",
       "    <tr>\n",
       "      <th>0</th>\n",
       "      <td>496</td>\n",
       "      <td>4/1/2016 00:00:26</td>\n",
       "      <td>Subscriber</td>\n",
       "    </tr>\n",
       "    <tr>\n",
       "      <th>1</th>\n",
       "      <td>104</td>\n",
       "      <td>4/1/2016 00:00:27</td>\n",
       "      <td>Subscriber</td>\n",
       "    </tr>\n",
       "    <tr>\n",
       "      <th>2</th>\n",
       "      <td>128</td>\n",
       "      <td>4/1/2016 00:00:30</td>\n",
       "      <td>Subscriber</td>\n",
       "    </tr>\n",
       "    <tr>\n",
       "      <th>3</th>\n",
       "      <td>1197</td>\n",
       "      <td>4/1/2016 00:00:34</td>\n",
       "      <td>Subscriber</td>\n",
       "    </tr>\n",
       "    <tr>\n",
       "      <th>4</th>\n",
       "      <td>419</td>\n",
       "      <td>4/1/2016 00:00:46</td>\n",
       "      <td>Subscriber</td>\n",
       "    </tr>\n",
       "  </tbody>\n",
       "</table>\n",
       "</div>"
      ],
      "text/plain": [
       "   tripduration          starttime    usertype\n",
       "0           496  4/1/2016 00:00:26  Subscriber\n",
       "1           104  4/1/2016 00:00:27  Subscriber\n",
       "2           128  4/1/2016 00:00:30  Subscriber\n",
       "3          1197  4/1/2016 00:00:34  Subscriber\n",
       "4           419  4/1/2016 00:00:46  Subscriber"
      ]
     },
     "execution_count": 69,
     "metadata": {},
     "output_type": "execute_result"
    }
   ],
   "source": [
    "#Dropping NaN values\n",
    "df = df.dropna() \n",
    "df.head()"
   ]
  },
  {
   "cell_type": "code",
   "execution_count": 70,
   "metadata": {
    "collapsed": true
   },
   "outputs": [],
   "source": [
    "#Max time for Customers = 30min = 1800 seg\n",
    "#Max time for Suscribers = 45min = 2700 seg\n",
    "Customer = 1800\n",
    "Subscriber = 2700\n"
   ]
  },
  {
   "cell_type": "code",
   "execution_count": 71,
   "metadata": {
    "collapsed": false
   },
   "outputs": [
    {
     "data": {
      "text/html": [
       "<div>\n",
       "<table border=\"1\" class=\"dataframe\">\n",
       "  <thead>\n",
       "    <tr style=\"text-align: right;\">\n",
       "      <th></th>\n",
       "      <th>tripduration</th>\n",
       "      <th>starttime</th>\n",
       "      <th>usertype</th>\n",
       "      <th>Extra Charge</th>\n",
       "    </tr>\n",
       "  </thead>\n",
       "  <tbody>\n",
       "    <tr>\n",
       "      <th>0</th>\n",
       "      <td>496</td>\n",
       "      <td>4/1/2016 00:00:26</td>\n",
       "      <td>Subscriber</td>\n",
       "      <td>False</td>\n",
       "    </tr>\n",
       "    <tr>\n",
       "      <th>1</th>\n",
       "      <td>104</td>\n",
       "      <td>4/1/2016 00:00:27</td>\n",
       "      <td>Subscriber</td>\n",
       "      <td>False</td>\n",
       "    </tr>\n",
       "    <tr>\n",
       "      <th>2</th>\n",
       "      <td>128</td>\n",
       "      <td>4/1/2016 00:00:30</td>\n",
       "      <td>Subscriber</td>\n",
       "      <td>False</td>\n",
       "    </tr>\n",
       "    <tr>\n",
       "      <th>3</th>\n",
       "      <td>1197</td>\n",
       "      <td>4/1/2016 00:00:34</td>\n",
       "      <td>Subscriber</td>\n",
       "      <td>False</td>\n",
       "    </tr>\n",
       "    <tr>\n",
       "      <th>4</th>\n",
       "      <td>419</td>\n",
       "      <td>4/1/2016 00:00:46</td>\n",
       "      <td>Subscriber</td>\n",
       "      <td>False</td>\n",
       "    </tr>\n",
       "  </tbody>\n",
       "</table>\n",
       "</div>"
      ],
      "text/plain": [
       "   tripduration          starttime    usertype Extra Charge\n",
       "0           496  4/1/2016 00:00:26  Subscriber        False\n",
       "1           104  4/1/2016 00:00:27  Subscriber        False\n",
       "2           128  4/1/2016 00:00:30  Subscriber        False\n",
       "3          1197  4/1/2016 00:00:34  Subscriber        False\n",
       "4           419  4/1/2016 00:00:46  Subscriber        False"
      ]
     },
     "execution_count": 71,
     "metadata": {},
     "output_type": "execute_result"
    }
   ],
   "source": [
    "# I am creating a new column to identify the users that paid extra fee because they exceeded the time\n",
    "df['Extra Charge'] = ((df['tripduration'] >= Customer) & (df['usertype'] == 'Customer') ) | \\\n",
    "                    (df['tripduration'] >= Subscriber) & (df['usertype'] == 'Subscriber')\n",
    "df.head()"
   ]
  },
  {
   "cell_type": "code",
   "execution_count": 72,
   "metadata": {
    "collapsed": false
   },
   "outputs": [
    {
     "data": {
      "text/plain": [
       "<matplotlib.legend.Legend at 0x8166d940>"
      ]
     },
     "execution_count": 72,
     "metadata": {},
     "output_type": "execute_result"
    },
    {
     "data": {
      "image/png": "[encoded data removed]",
      "text/plain": [
       "<matplotlib.figure.Figure at 0x816615f8>"
      ]
     },
     "metadata": {},
     "output_type": "display_data"
    }
   ],
   "source": [
    "#I am using pandas to plot in bars the number of trips per User type and as well add the extra charged trips\n",
    "\n",
    "fig = pl.figure(figsize(15,15))\n",
    "\n",
    "##Plot the total number of trips per user, groupby method helps to distribute according to the values in\n",
    "## usertype column\n",
    "ax = df['tripduration'].groupby([df['usertype']]).count().plot(kind = \"bar\", color = 'IndianRed',\\\n",
    "                                                             label = 'Total Trips', fontsize = 20)\n",
    "##Plot the total number of extra charged trips per user\n",
    "ax = df['tripduration'][df['Extra Charge'] == True].groupby([df['usertype']]).count().plot(kind = \"bar\",\\\n",
    "                                            color = 'SteelBlue', label = 'Trips Extra Charged ', fontsize = 20)\n",
    "ax.set_ylabel (\"Number of rides\", fontsize = 25)\n",
    "ax.set_xlabel (\"User type\",fontsize = 25)     \n",
    "ax.set_title('Rides by type of customer', fontsize = 25)\n",
    "                \n",
    "pl.legend(loc = 2, fontsize = 20)"
   ]
  },
  {
   "cell_type": "code",
   "execution_count": 73,
   "metadata": {
    "collapsed": false
   },
   "outputs": [
    {
     "data": {
      "text/html": [
       "<div>\n",
       "<table border=\"1\" class=\"dataframe\">\n",
       "  <thead>\n",
       "    <tr style=\"text-align: right;\">\n",
       "      <th></th>\n",
       "      <th>tripduration</th>\n",
       "      <th>starttime</th>\n",
       "      <th>usertype</th>\n",
       "      <th>Extra Charge</th>\n",
       "    </tr>\n",
       "  </thead>\n",
       "  <tbody>\n",
       "    <tr>\n",
       "      <th>0</th>\n",
       "      <td>496</td>\n",
       "      <td>4/1/2016 00:00:26</td>\n",
       "      <td>Subscriber</td>\n",
       "      <td>False</td>\n",
       "    </tr>\n",
       "    <tr>\n",
       "      <th>1</th>\n",
       "      <td>104</td>\n",
       "      <td>4/1/2016 00:00:27</td>\n",
       "      <td>Subscriber</td>\n",
       "      <td>False</td>\n",
       "    </tr>\n",
       "    <tr>\n",
       "      <th>2</th>\n",
       "      <td>128</td>\n",
       "      <td>4/1/2016 00:00:30</td>\n",
       "      <td>Subscriber</td>\n",
       "      <td>False</td>\n",
       "    </tr>\n",
       "    <tr>\n",
       "      <th>3</th>\n",
       "      <td>1197</td>\n",
       "      <td>4/1/2016 00:00:34</td>\n",
       "      <td>Subscriber</td>\n",
       "      <td>False</td>\n",
       "    </tr>\n",
       "    <tr>\n",
       "      <th>4</th>\n",
       "      <td>419</td>\n",
       "      <td>4/1/2016 00:00:46</td>\n",
       "      <td>Subscriber</td>\n",
       "      <td>False</td>\n",
       "    </tr>\n",
       "  </tbody>\n",
       "</table>\n",
       "</div>"
      ],
      "text/plain": [
       "   tripduration          starttime    usertype Extra Charge\n",
       "0           496  4/1/2016 00:00:26  Subscriber        False\n",
       "1           104  4/1/2016 00:00:27  Subscriber        False\n",
       "2           128  4/1/2016 00:00:30  Subscriber        False\n",
       "3          1197  4/1/2016 00:00:34  Subscriber        False\n",
       "4           419  4/1/2016 00:00:46  Subscriber        False"
      ]
     },
     "execution_count": 73,
     "metadata": {},
     "output_type": "execute_result"
    }
   ],
   "source": [
    "df.head()\n"
   ]
  },
  {
   "cell_type": "markdown",
   "metadata": {},
   "source": [
    "### Add error bars for count statictics error"
   ]
  },
  {
   "cell_type": "code",
   "execution_count": 74,
   "metadata": {
    "collapsed": false
   },
   "outputs": [
    {
     "data": {
      "text/plain": [
       "<matplotlib.legend.Legend at 0x9b41a58>"
      ]
     },
     "execution_count": 74,
     "metadata": {},
     "output_type": "execute_result"
    },
    {
     "data": {
      "image/png": "[encoded data removed]",
      "text/plain": [
       "<matplotlib.figure.Figure at 0x81660a90>"
      ]
     },
     "metadata": {},
     "output_type": "display_data"
    }
   ],
   "source": [
    "### error calculation and plotting\n",
    "### because the counts are big the errors are small and a zoom  to the plot will be needed\n",
    "fig = pl.figure(figsize(15,15))\n",
    "counts_f = df.usertype[df['Extra Charge'] == False].groupby([df['usertype']]).count()\n",
    "norm_f = 1\n",
    "error_f = np.sqrt(counts_f)\n",
    "ax=((counts_f) / norm_f).plot(kind=\"bar\",color='IndianRed',  yerr=[((error_f) / norm_f, \\\n",
    "                                           (error_f) / norm_f)], label='Not charged Extra')\n",
    "\n",
    "counts_t = df.usertype[df['Extra Charge'] == True].groupby([df['usertype']]).count()\n",
    "norm_t = 1\n",
    "error_t = np.sqrt(counts_t)\n",
    "ax=((counts_t) / norm_t).plot(kind=\"bar\",color='SteelBlue',  yerr=[((error_t) / norm_t, \\\n",
    "                                           (error_t) / norm_t)], label='Charged Extra')\n",
    "ax.set_ylabel (\"Number of rides\", fontsize = 20)\n",
    "ax.set_xlabel (\"User type\",fontsize = 20)    \n",
    "ax.set_xticklabels(['Customer','Subscriber'],size=15)\n",
    "ax.set_title('Rides by type of customer with error-bar', fontsize = 25)\n",
    "\n",
    "pl.legend(loc = 2, fontsize = 25)\n"
   ]
  },
  {
   "cell_type": "markdown",
   "metadata": {},
   "source": [
    "### Zoomed plot with error bars for count statictics error"
   ]
  },
  {
   "cell_type": "code",
   "execution_count": 75,
   "metadata": {
    "collapsed": false
   },
   "outputs": [
    {
     "data": {
      "text/plain": [
       "usertype\n",
       "Customer      81294\n",
       "Subscriber    24930\n",
       "Name: usertype, dtype: int64"
      ]
     },
     "execution_count": 75,
     "metadata": {},
     "output_type": "execute_result"
    },
    {
     "data": {
      "image/png": "[encoded data removed]",
      "text/plain": [
       "<matplotlib.figure.Figure at 0x7ce92be0>"
      ]
     },
     "metadata": {},
     "output_type": "display_data"
    }
   ],
   "source": [
    "fig = pl.figure(figsize(15,15))\n",
    "counts_f = df.usertype[df['Extra Charge'] == False].groupby([df['usertype']]).count()\n",
    "norm_f = 1\n",
    "error_f = np.sqrt(counts_f)\n",
    "ax=((counts_f) / norm_f).plot(kind=\"bar\",color='IndianRed',  yerr=[((error_f) / norm_f, \\\n",
    "                                           (error_f) / norm_f)], label='Not charged Extra')\n",
    "\n",
    "counts_t = df.usertype[df['Extra Charge'] == True].groupby([df['usertype']]).count()\n",
    "norm_t = 1\n",
    "error_t = np.sqrt(counts_t)\n",
    "ax=((counts_t) / norm_t).plot(kind=\"bar\",color='SteelBlue',  yerr=[((error_t) / norm_t, \\\n",
    "                                           (error_t) / norm_t)], label='Charged Extra')\n",
    "ax.set_ylabel (\"Number of rides\", fontsize = 20)\n",
    "ax.set_xlabel (\"User type\",fontsize = 20)    \n",
    "ax.set_xticklabels(['Customer','Subscriber'],size=15)\n",
    "ax.set_title('Zoomed  Rides by type of customer with error-bar', fontsize = 25)\n",
    "ax.set_ylim(0,90000)\n",
    "pl.legend(loc = 1, fontsize = 25)\n",
    "counts_t"
   ]
  },
  {
   "cell_type": "markdown",
   "metadata": {},
   "source": [
    "### Plot of the Ratio of trips extra charged trip uder User type total rides "
   ]
  },
  {
   "cell_type": "code",
   "execution_count": 76,
   "metadata": {
    "collapsed": false
   },
   "outputs": [
    {
     "data": {
      "text/plain": [
       "<matplotlib.legend.Legend at 0x2cf4bd68>"
      ]
     },
     "execution_count": 76,
     "metadata": {},
     "output_type": "execute_result"
    },
    {
     "data": {
      "image/png": "[encoded data removed]",
      "text/plain": [
       "<matplotlib.figure.Figure at 0x7cebda20>"
      ]
     },
     "metadata": {},
     "output_type": "display_data"
    }
   ],
   "source": [
    "fig = pl.figure(figsize(15,15))\n",
    "counts_f = df.usertype[df['Extra Charge'] == False].groupby([df['usertype']]).count()\n",
    "counts_t = df.usertype[df['Extra Charge'] == True].groupby([df['usertype']]).count()\n",
    "totalCustomer = len(df[(df['usertype'] == 'Customer')])\n",
    "\n",
    "totalSubscriber = len(df[(df['usertype'] == 'Subscriber')])\n",
    "\n",
    "norm = [totalCustomer, totalSubscriber]\n",
    "error_f = np.sqrt(counts_f)\n",
    "ax=((counts_f) / norm).plot(kind=\"bar\",color='IndianRed',  yerr=[((error_f) / norm, \\\n",
    "                                           (error_f) / norm)], label='Not charged Extra',alpha=.8)\n",
    "\n",
    "counts_t = df.usertype[df['Extra Charge'] == True].groupby([df['usertype']]).count()\n",
    "\n",
    "error_t = np.sqrt(counts_t)\n",
    "ax=((counts_t) / norm).plot(kind=\"bar\",color='SteelBlue',  yerr=[((error_t) / norm, \\\n",
    "                                           (error_t) / norm)], label='Charged Extra')\n",
    "ax.set_ylabel (\"Ratio of rides\", fontsize = 20)\n",
    "ax.set_xlabel (\"User type\",fontsize = 20)    \n",
    "ax.set_xticklabels(['Customer','Subscriber'],size=15)\n",
    "ax.set_title('Ratio of extra charged trips under Usertype total rides', fontsize = 25)\n",
    "\n",
    "pl.legend(loc = 2, fontsize = 25)\n",
    "\n"
   ]
  },
  {
   "cell_type": "markdown",
   "metadata": {},
   "source": [
    "### Total Number of Trips"
   ]
  },
  {
   "cell_type": "code",
   "execution_count": 77,
   "metadata": {
    "collapsed": false
   },
   "outputs": [
    {
     "data": {
      "text/plain": [
       "3034341"
      ]
     },
     "execution_count": 77,
     "metadata": {},
     "output_type": "execute_result"
    }
   ],
   "source": [
    "totaltrips = len(df[(df['usertype'] == 'Subscriber') | (df['usertype'] == 'Customer')])\n",
    "totaltrips"
   ]
  },
  {
   "cell_type": "markdown",
   "metadata": {
    "collapsed": false
   },
   "source": [
    "### Total Number of Trips for the user type Customer"
   ]
  },
  {
   "cell_type": "code",
   "execution_count": 78,
   "metadata": {
    "collapsed": false
   },
   "outputs": [
    {
     "data": {
      "text/plain": [
       "317122"
      ]
     },
     "execution_count": 78,
     "metadata": {},
     "output_type": "execute_result"
    }
   ],
   "source": [
    "totalCustomer = len(df[(df['usertype'] == 'Customer')])\n",
    "totalCustomer"
   ]
  },
  {
   "cell_type": "markdown",
   "metadata": {
    "collapsed": false
   },
   "source": [
    "### Total Number of Trips for the user type Subscriber"
   ]
  },
  {
   "cell_type": "code",
   "execution_count": 79,
   "metadata": {
    "collapsed": false
   },
   "outputs": [
    {
     "data": {
      "text/plain": [
       "2717219"
      ]
     },
     "execution_count": 79,
     "metadata": {},
     "output_type": "execute_result"
    }
   ],
   "source": [
    "totalSubscriber = len(df[(df['usertype'] == 'Subscriber')])\n",
    "totalSubscriber"
   ]
  },
  {
   "cell_type": "markdown",
   "metadata": {},
   "source": [
    "### Total Number of  Extra charged Trips by user type "
   ]
  },
  {
   "cell_type": "code",
   "execution_count": 80,
   "metadata": {
    "collapsed": false
   },
   "outputs": [
    {
     "data": {
      "text/plain": [
       "81294"
      ]
     },
     "execution_count": 80,
     "metadata": {},
     "output_type": "execute_result"
    }
   ],
   "source": [
    "ExtraCustomer = len(df[(df['Extra Charge'] == True) & (df['usertype'] == 'Customer')])\n",
    "ExtraCustomer"
   ]
  },
  {
   "cell_type": "code",
   "execution_count": 81,
   "metadata": {
    "collapsed": false
   },
   "outputs": [
    {
     "data": {
      "text/plain": [
       "24930"
      ]
     },
     "execution_count": 81,
     "metadata": {},
     "output_type": "execute_result"
    }
   ],
   "source": [
    "ExtraSubscriber=len(df[(df['Extra Charge'] == True) & (df['usertype'] == 'Subscriber')])\n",
    "ExtraSubscriber"
   ]
  },
  {
   "cell_type": "markdown",
   "metadata": {},
   "source": [
    "### Ratio calculation  Extra charged Trips/Total Number of trip by user type "
   ]
  },
  {
   "cell_type": "code",
   "execution_count": 82,
   "metadata": {
    "collapsed": false
   },
   "outputs": [
    {
     "name": "stdout",
     "output_type": "stream",
     "text": [
      "Ratio of Customers Charged Extra:  25.634929144 %\n",
      "Ratio of Subscribers Charged Extra:  0.91748217571 %\n"
     ]
    }
   ],
   "source": [
    "ratioSubscriber = ExtraSubscriber / totalSubscriber\n",
    "ratioCustomer = ExtraCustomer / totalCustomer\n",
    "print('Ratio of Customers Charged Extra: ', ratioCustomer*100,'%')\n",
    "print('Ratio of Subscribers Charged Extra: ', ratioSubscriber*100, '%')"
   ]
  },
  {
   "cell_type": "code",
   "execution_count": 83,
   "metadata": {
    "collapsed": false
   },
   "outputs": [
    {
     "name": "stdout",
     "output_type": "stream",
     "text": [
      "We must check the significance before we reject the Null Hypothesis\n"
     ]
    }
   ],
   "source": [
    "if ratioSubscriber >= ratioCustomer:\n",
    "    print(\"In accordance with Null Hypothesis\")\n",
    "else:\n",
    "    print (\"We must check the significance before we reject the Null Hypothesis\")"
   ]
  },
  {
   "cell_type": "markdown",
   "metadata": {},
   "source": [
    "### Evaluating Significance of the result with the  Z-test"
   ]
  },
  {
   "cell_type": "code",
   "execution_count": 84,
   "metadata": {
    "collapsed": false
   },
   "outputs": [
    {
     "name": "stdout",
     "output_type": "stream",
     "text": [
      "Standard error =  0.000344903688414\n",
      "The z statistics is -6958745529.91\n"
     ]
    }
   ],
   "source": [
    "# defining the functions that calculate the statistics\n",
    "# the lambda style definition is NOT APPROVED BY PEP8 and you should avoind it\n",
    "# but I am putting it here since you may encounter it in your coding life.\n",
    "# confront the equation in the markdown cell above with these function to understand as they work\n",
    "\n",
    "p = lambda p0, p1, n0, n1: (p0 * n0 + p1 * n1) / (n0 + n1)\n",
    "se = lambda p, n0, n1: np.sqrt(p * (1 - p) * (1.0 / n0 + 1.0 / n1)) #standard error\n",
    "zscore = lambda p0, p1, s : (p0 - p1) / s\n",
    "# calculations\n",
    "\n",
    "sp_stdev = se(p(ratioCustomer, ratioSubscriber, totalCustomer, totalSubscriber),totalCustomer, totalSubscriber)\n",
    "print ('Standard error = ',sp_stdev)\n",
    "z = zscore(totalCustomer, totalSubscriber, sp_stdev)\n",
    "print (\"The z statistics is %.2f\"%z) "
   ]
  },
  {
   "cell_type": "markdown",
   "metadata": {},
   "source": [
    "The Z value is larger than any value in the Z-tables and the maximum p-value is $p<0.0002$ and is smaller than the one chosen $\\alpha=0.05$\n",
    "\n",
    "This means that our analysis is statistically significant."
   ]
  },
  {
   "cell_type": "markdown",
   "metadata": {},
   "source": [
    "#### We can reject the NULL HYPOTHESIS:\n",
    "The ratio of Suscribers rides paying extra fees over the total Suscribers rides is the same or higher than the ratio of Customers rides paying extra fees over the total Customers rides"
   ]
  },
  {
   "cell_type": "markdown",
   "metadata": {},
   "source": [
    "### Evaluating Significance of the result with the  Chi-square"
   ]
  },
  {
   "cell_type": "code",
   "execution_count": 85,
   "metadata": {
    "collapsed": false
   },
   "outputs": [
    {
     "data": {
      "text/plain": [
       "3.5007271760161434"
      ]
     },
     "execution_count": 85,
     "metadata": {},
     "output_type": "execute_result"
    }
   ],
   "source": [
    "p=(ExtraCustomer+ExtraSubscriber)/totaltrips\n",
    "p*100"
   ]
  },
  {
   "cell_type": "code",
   "execution_count": 86,
   "metadata": {
    "collapsed": false
   },
   "outputs": [
    {
     "data": {
      "text/plain": [
       "0.2563492914398875"
      ]
     },
     "execution_count": 86,
     "metadata": {},
     "output_type": "execute_result"
    }
   ],
   "source": [
    "ratioCustomer"
   ]
  },
  {
   "cell_type": "code",
   "execution_count": 87,
   "metadata": {
    "collapsed": false
   },
   "outputs": [
    {
     "data": {
      "text/plain": [
       "0.009174821757097974"
      ]
     },
     "execution_count": 87,
     "metadata": {},
     "output_type": "execute_result"
    }
   ],
   "source": [
    "ratioSubscriber"
   ]
  },
  {
   "cell_type": "code",
   "execution_count": 88,
   "metadata": {
    "collapsed": true
   },
   "outputs": [],
   "source": [
    "def chisqrpartial(observed,expected):\n",
    "    x=((observed-expected)**2)/expected\n",
    "    return x"
   ]
  },
  {
   "cell_type": "code",
   "execution_count": 89,
   "metadata": {
    "collapsed": false
   },
   "outputs": [
    {
     "data": {
      "text/plain": [
       "[443808.73188414355, 51796.16095447713, 16100.155402144552, 1879.0217061778426]"
      ]
     },
     "execution_count": 89,
     "metadata": {},
     "output_type": "execute_result"
    }
   ],
   "source": [
    "X=[]\n",
    "X.append(chisqrpartial(ExtraCustomer,p*(totalCustomer)))\n",
    "X.append(chisqrpartial(ExtraSubscriber,p*(totalSubscriber)))\n",
    "X.append(chisqrpartial(totalCustomer-ExtraCustomer,(1-p)*(totalCustomer)))\n",
    "X.append(chisqrpartial(totalSubscriber-ExtraSubscriber,(1-p)*(totalSubscriber)))\n",
    "X"
   ]
  },
  {
   "cell_type": "code",
   "execution_count": 90,
   "metadata": {
    "collapsed": false
   },
   "outputs": [
    {
     "name": "stdout",
     "output_type": "stream",
     "text": [
      "The Chi-squared statistics is =  513584.069947\n"
     ]
    }
   ],
   "source": [
    "chisqr=sum(X)\n",
    "print('The Chi-squared statistics is = ',chisqr)\n"
   ]
  },
  {
   "cell_type": "markdown",
   "metadata": {},
   "source": [
    "### To calculate DoF we have 2 different usertypes (Subscriber, Customer) and 2 different Extra Charged values (True, False)"
   ]
  },
  {
   "cell_type": "code",
   "execution_count": 91,
   "metadata": {
    "collapsed": false
   },
   "outputs": [
    {
     "name": "stdout",
     "output_type": "stream",
     "text": [
      "The Dof is =  1\n"
     ]
    }
   ],
   "source": [
    "rows = 2 #Subscriber or Customer\n",
    "columns = 2 #True or False\n",
    "DoF=(rows-1)*(columns-1)\n",
    "print('The Dof is = ',DoF)"
   ]
  },
  {
   "cell_type": "markdown",
   "metadata": {},
   "source": [
    "The smallest P-value on the tables show p<.001 for a Chi-squared of 10.83 as for a DoF = 1\n",
    "For chi-square statistic value for p = 0.05 (95% confidence level) with 1 degree of freedom -> 3.84"
   ]
  },
  {
   "cell_type": "code",
   "execution_count": 92,
   "metadata": {
    "collapsed": false
   },
   "outputs": [
    {
     "name": "stdout",
     "output_type": "stream",
     "text": [
      "The test is significant. We can reject the Null Hypothesis\n"
     ]
    }
   ],
   "source": [
    "if chisqr > 3.84:\n",
    "    print(\"The test is significant. We can reject the Null Hypothesis\")\n",
    "else:\n",
    "    print (\"The test is not significant to rject Null Hypothesis\")"
   ]
  },
  {
   "cell_type": "code",
   "execution_count": null,
   "metadata": {
    "collapsed": true
   },
   "outputs": [],
   "source": []
  }
 ],
 "metadata": {
  "anaconda-cloud": {},
  "kernelspec": {
   "display_name": "Python [Root]",
   "language": "python",
   "name": "Python [Root]"
  },
  "language_info": {
   "codemirror_mode": {
    "name": "ipython",
    "version": 2
   },
   "file_extension": ".py",
   "mimetype": "text/x-python",
   "name": "python",
   "nbconvert_exporter": "python",
   "pygments_lexer": "ipython2",
   "version": "2.7.12"
  }
 },
 "nbformat": 4,
 "nbformat_minor": 0
}
